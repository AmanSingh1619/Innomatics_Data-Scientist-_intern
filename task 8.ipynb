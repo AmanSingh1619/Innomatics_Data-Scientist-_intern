{
 "cells": [
  {
   "cell_type": "markdown",
   "metadata": {},
   "source": [
    "#### Binomial Distribution I\n",
    "\n",
    " "
   ]
  },
  {
   "cell_type": "code",
   "execution_count": null,
   "metadata": {},
   "outputs": [],
   "source": [
    "from math import factorial as f\n",
    "def bi_dist(x, n, p):\n",
    "    b = (f(n)/(f(x)*f(n-x)))*(p**x)*((1-p)**(n-x))\n",
    "    return(b)\n",
    "\n",
    "b, p, n = 0, 1.09/2.09, 6\n",
    "for i in range(3,7):\n",
    "    b += bi_dist(i, n, p)   \n",
    "print(\"%.3f\" %b)"
   ]
  },
  {
   "cell_type": "markdown",
   "metadata": {},
   "source": [
    "#### Binomial Distribution II\n",
    "\n"
   ]
  },
  {
   "cell_type": "code",
   "execution_count": null,
   "metadata": {},
   "outputs": [],
   "source": [
    "from math import factorial as f\n",
    "p,n=map(int,input().split())\n",
    "p=p/100\n",
    "q=1-p\n",
    "def comb(n,r):\n",
    "    return f(n)/(f(r)*f(n-r))\n",
    "print(format(sum(comb(n,r)*(p**r)*(q**(n-r))for r in range (0,3)),'.3f'))\n",
    "print(format(sum(comb(n,r)*(p**r)*(q**(n-r))for r in range (2,11)),'.3f'))"
   ]
  },
  {
   "cell_type": "markdown",
   "metadata": {},
   "source": [
    "#### Normal Distribution I\n",
    "\n"
   ]
  },
  {
   "cell_type": "code",
   "execution_count": null,
   "metadata": {},
   "outputs": [],
   "source": [
    "import math\n",
    "mean, std = 20, 2\n",
    "cdf = lambda x: 0.5 * (1 + math.erf((x - mean) / (std * (2 ** 0.5))))\n",
    "\n",
    "# Less than 19.5\n",
    "print('{:.3f}'.format(cdf(19.5)))\n",
    "# Between 20 and 22\n",
    "print('{:.3f}'.format(cdf(22) - cdf(20)))"
   ]
  },
  {
   "cell_type": "markdown",
   "metadata": {},
   "source": [
    "#####  Normal Distribution II\n",
    "\n"
   ]
  },
  {
   "cell_type": "code",
   "execution_count": null,
   "metadata": {},
   "outputs": [],
   "source": [
    "import math\n",
    "mu, sig = [float(num) for num in input().split(\" \")]\n",
    "Cutoff1 = float(input())\n",
    "Cutoff2 = float(input())\n",
    "def phi(x, mu, sig):\n",
    "    return (1.0 + math.erf((x - mu) / (sig * math.sqrt(2.0)))) / 2.0\n",
    "\n",
    "print(round(100 - (phi(Cutoff1, mu, sig) * 100), 2))\n",
    "print(round(100 - (phi(Cutoff2, mu, sig) * 100), 2))\n",
    "print(round(phi(Cutoff2, mu, sig) * 100, 2))"
   ]
  },
  {
   "cell_type": "markdown",
   "metadata": {},
   "source": [
    "### The Central Limit Theorem II"
   ]
  },
  {
   "cell_type": "code",
   "execution_count": null,
   "metadata": {},
   "outputs": [],
   "source": [
    "from math import erf\n",
    "max_num = float(input())\n",
    "n = int(input())\n",
    "mu = float(input())\n",
    "std = float(input())\n",
    "mean = n*mu\n",
    "stan = std*(n**0.5)\n",
    "f = lambda x : 0.5*(1+erf((x-mean)/(stan*(2**0.5))))\n",
    "pro = f(max_num)\n",
    "pro = round(pro, 4)\n",
    "print(pro)"
   ]
  },
  {
   "cell_type": "markdown",
   "metadata": {},
   "source": [
    "#### The Central Limit Theorem III\n",
    "\n"
   ]
  },
  {
   "cell_type": "code",
   "execution_count": null,
   "metadata": {},
   "outputs": [],
   "source": [
    "from math import sqrt\n",
    "\n",
    "s = int(input())\n",
    "mean = int(input())\n",
    "std = int(input())\n",
    "interval = float(input())\n",
    "z = float(input())\n",
    "print(round(mean - (std / sqrt(s)) * z, 2))\n",
    "print(round(mean + (std / sqrt(s)) * z, 2))"
   ]
  },
  {
   "cell_type": "markdown",
   "metadata": {},
   "source": [
    "#### Pearson Correlation Coefficient I"
   ]
  },
  {
   "cell_type": "code",
   "execution_count": null,
   "metadata": {},
   "outputs": [],
   "source": [
    "import statistics as st\n",
    "\n",
    "n=int(input())\n",
    "x=tuple(map(float,input().split()))\n",
    "y=tuple(map(float,input().split()))\n",
    "\n",
    "rho=sum([a*b for a,b in zip([i-st.mean(x) for i in x],[i-st.mean(y) for i in y])])/(n*st.pstdev(x)*st.pstdev(y))   \n",
    "\n",
    "print(round(rho,3))"
   ]
  },
  {
   "cell_type": "markdown",
   "metadata": {},
   "source": [
    "#### Least Square Regression Line"
   ]
  },
  {
   "cell_type": "code",
   "execution_count": null,
   "metadata": {},
   "outputs": [],
   "source": [
    "from statistics import mean, pstdev\n",
    "\n",
    "\n",
    "def pearson(x, y):\n",
    "    mx, sx, my, sy = mean(x), pstdev(x), mean(y), pstdev(y)\n",
    "    return sum((xi - mx) * (yi - my) for xi, yi in zip(x, y)) / (len(x) * sx * sy)\n",
    "\n",
    "\n",
    "def linear(x, y):\n",
    "    b = pearson(x, y) * pstdev(y) / pstdev(x)\n",
    "    return mean(y) - b * mean(x), b\n",
    "\n",
    "\n",
    "x, y = zip(*(map(float, input().split()) for _ in range(5)))\n",
    "a, b = linear(x, y)\n",
    "print(f'{a+b*80:.3f}')"
   ]
  },
  {
   "cell_type": "markdown",
   "metadata": {},
   "source": [
    "#### Multiple Linear Regression"
   ]
  },
  {
   "cell_type": "code",
   "execution_count": null,
   "metadata": {},
   "outputs": [],
   "source": [
    "from sklearn.linear_model import LinearRegression\n",
    "\n",
    "B = LinearRegression()\n",
    "m, n = map(int, input().split())\n",
    "flat = [*map(float, [_ for list in [input().split() for _ in range(n)] for _ in list])]\n",
    "X = [flat[i:i+m] for i in range(0, n*(m+1), m+1)]\n",
    "Y = [flat[i] for i in range(m, n*(m+1), m+1)]\n",
    "B.fit(X, Y)\n",
    "q = int(input())\n",
    "X = [[*map(float, input().split())] for _ in range(q)]\n",
    "Y = B.predict(X)\n",
    "print('\\n'.join('%f'%y for y in Y))"
   ]
  }
 ],
 "metadata": {
  "kernelspec": {
   "display_name": "Python 3",
   "language": "python",
   "name": "python3"
  },
  "language_info": {
   "codemirror_mode": {
    "name": "ipython",
    "version": 3
   },
   "file_extension": ".py",
   "mimetype": "text/x-python",
   "name": "python",
   "nbconvert_exporter": "python",
   "pygments_lexer": "ipython3",
   "version": "3.8.3"
  }
 },
 "nbformat": 4,
 "nbformat_minor": 4
}
