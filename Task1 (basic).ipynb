{
 "cells": [
  {
   "cell_type": "markdown",
   "metadata": {},
   "source": [
    "## Task 1(Basic Python Programming)\n",
    "\n",
    "### Q1. Say \"?Hello,World!\" using Python"
   ]
  },
  {
   "cell_type": "code",
   "execution_count": 1,
   "metadata": {},
   "outputs": [
    {
     "name": "stdout",
     "output_type": "stream",
     "text": [
      "Hello, World!\n"
     ]
    }
   ],
   "source": [
    "my_string = \"Hello, World!\"\n",
    "print(my_string)\n"
   ]
  },
  {
   "cell_type": "markdown",
   "metadata": {},
   "source": [
    "### Q2.Given an integer, n, perform the following conditional actions:\n",
    "\n",
    "1. If n is odd, print Weird\n",
    "2. If n is even and in the inclusive range of 2 to 5, print Not Weird\n",
    "3. If n is even and in the inclusive range of 6 to 20 , print Weird\n",
    "4. If n is even and greater than 20, print Not Weird"
   ]
  },
  {
   "cell_type": "code",
   "execution_count": 2,
   "metadata": {},
   "outputs": [
    {
     "name": "stdout",
     "output_type": "stream",
     "text": [
      "24\n",
      "Not Weird\n"
     ]
    }
   ],
   "source": [
    "n = int(input().strip())\n",
    "if n%2!=0:\n",
    "    print(\"Weird\")\n",
    "elif n%2==0 | n>=2 or n<=5:\n",
    "    print(\"Not Weird\") \n",
    "elif n%2==0 | n>=6 or n<=20:\n",
    "    print(\"Weird\")    \n",
    "else:    \n",
    "    print(\"Not Weird\")"
   ]
  },
  {
   "cell_type": "markdown",
   "metadata": {},
   "source": [
    "### Q3.The provided code stub reads two integers from STDIN,a and b. Add code to print three lines where:\n",
    "\n",
    "1. The first line contains the sum of the two numbers.\n",
    "2. The second line contains the difference of the two numbers (first - second).\n",
    "3. The third line contains the product of the two numbers."
   ]
  },
  {
   "cell_type": "code",
   "execution_count": 3,
   "metadata": {},
   "outputs": [
    {
     "name": "stdout",
     "output_type": "stream",
     "text": [
      "5\n",
      "3\n",
      "The sum of Two no is: 8\n",
      "The difference of the two numbersis: 2\n",
      "he product of the two number is: 15\n"
     ]
    }
   ],
   "source": [
    "a = int(input())\n",
    "b = int(input())\n",
    "print(\"The sum of Two no is:\",a+b)\n",
    "print(\"The difference of the two numbersis:\", a-b)\n",
    "print(\"he product of the two number is:\",a*b)\n",
    "# or we can also do like this\n",
    "#print('{0} \\n{1} \\n{2}'.format((a + b), (a - b),(a * b)))"
   ]
  },
  {
   "cell_type": "markdown",
   "metadata": {},
   "source": [
    "### Q4.The provided code stub reads two integers, a and b, from STDIN.\n",
    "\n",
    "Add logic to print two lines. The first line should contain the result of integer division,  a//b . The second line should contain the result of float division, a /b .\n",
    "\n",
    "No rounding or formatting is necessary"
   ]
  },
  {
   "cell_type": "code",
   "execution_count": 4,
   "metadata": {},
   "outputs": [
    {
     "name": "stdout",
     "output_type": "stream",
     "text": [
      "4\n",
      "3\n",
      "1 \n",
      "1.3333333333333333 \n"
     ]
    }
   ],
   "source": [
    "a = int(input())\n",
    "b = int(input())\n",
    "print('{0} \\n{1} '.format((a // b), (a / b)))"
   ]
  },
  {
   "cell_type": "markdown",
   "metadata": {},
   "source": [
    "### Q5. The provided code stub reads and integer, n, from STDIN. For all non-negative integers i<n, Print the square of each number on a separate line.\n",
    "\n"
   ]
  },
  {
   "cell_type": "code",
   "execution_count": 6,
   "metadata": {},
   "outputs": [
    {
     "name": "stdout",
     "output_type": "stream",
     "text": [
      "5\n",
      "0\n",
      "1\n",
      "4\n",
      "9\n",
      "16\n"
     ]
    }
   ],
   "source": [
    "n = int(input())\n",
    "for i in range(n):\n",
    "    print(i**2)"
   ]
  },
  {
   "cell_type": "markdown",
   "metadata": {},
   "source": [
    "### Q6. Given a year, determine whether it is a leap year. If it is a leap year, return the Boolean True, otherwise return False."
   ]
  },
  {
   "cell_type": "code",
   "execution_count": 7,
   "metadata": {},
   "outputs": [
    {
     "name": "stdout",
     "output_type": "stream",
     "text": [
      "2100\n",
      "False\n"
     ]
    }
   ],
   "source": [
    "def is_leap(year):\n",
    "\n",
    "    if year%400==0:\n",
    "        return True\n",
    "    elif year%100==0:\n",
    "        return False\n",
    "    elif year%4==0:\n",
    "        return True\n",
    "    else:\n",
    "        return False\n",
    "\n",
    "year = int(input())\n",
    "print(is_leap(year))"
   ]
  },
  {
   "cell_type": "markdown",
   "metadata": {},
   "source": [
    "### Q7. Without using any string methods, try to print the following:\n",
    "######    123..n\n",
    "##### note that \"...\" represents the consecutive values in between.\n",
    "\n",
    "###### Example\n",
    "###### n=5\n",
    "###### print(12345)"
   ]
  },
  {
   "cell_type": "code",
   "execution_count": 8,
   "metadata": {},
   "outputs": [
    {
     "name": "stdout",
     "output_type": "stream",
     "text": [
      "5\n",
      "12345\n"
     ]
    }
   ],
   "source": [
    "n = int(input())\n",
    "print(*range(1, n+1), sep='')"
   ]
  },
  {
   "cell_type": "code",
   "execution_count": null,
   "metadata": {},
   "outputs": [],
   "source": []
  }
 ],
 "metadata": {
  "kernelspec": {
   "display_name": "Python 3",
   "language": "python",
   "name": "python3"
  },
  "language_info": {
   "codemirror_mode": {
    "name": "ipython",
    "version": 3
   },
   "file_extension": ".py",
   "mimetype": "text/x-python",
   "name": "python",
   "nbconvert_exporter": "python",
   "pygments_lexer": "ipython3",
   "version": "3.8.3"
  }
 },
 "nbformat": 4,
 "nbformat_minor": 4
}
