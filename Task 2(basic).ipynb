{
 "cells": [
  {
   "cell_type": "markdown",
   "metadata": {},
   "source": [
    "##### Q1.Let's learn about list comprehensions! You are given three integers x,y and z representing the dimensions of a cuboid along with an integer n . Print a list of all possible coordinates given by (i,j,k) on a 3D grid where the sum of i+j+k is not equal to n. Here, 0<=i<=x;0<=j<=y;0<=k<=z;. Please use list comprehensions rather than multiple loops, as a learning exercise "
   ]
  },
  {
   "cell_type": "code",
   "execution_count": 1,
   "metadata": {},
   "outputs": [
    {
     "name": "stdout",
     "output_type": "stream",
     "text": [
      "2\n",
      "2\n",
      "2\n",
      "2\n",
      "[[0, 0, 0], [0, 0, 1], [0, 1, 0], [0, 1, 2], [0, 2, 1], [0, 2, 2], [1, 0, 0], [1, 0, 2], [1, 1, 1], [1, 1, 2], [1, 2, 0], [1, 2, 1], [1, 2, 2], [2, 0, 1], [2, 0, 2], [2, 1, 0], [2, 1, 1], [2, 1, 2], [2, 2, 0], [2, 2, 1], [2, 2, 2]]\n"
     ]
    }
   ],
   "source": [
    "x = int(input())\n",
    "y = int(input())\n",
    "z = int(input())\n",
    "n = int(input())\n",
    "print ([[a,b,c] for a in range(x+1) for b in range(y+1) for c in range(z+1) if a + b + c != n ])"
   ]
  },
  {
   "cell_type": "markdown",
   "metadata": {},
   "source": [
    "### Q2.iven the participants' score sheet for your University Sports Day, you are required to find the runner-up score. You are given  scores. Store them in a list and find the score of the runner-up."
   ]
  },
  {
   "cell_type": "code",
   "execution_count": 5,
   "metadata": {},
   "outputs": [
    {
     "name": "stdout",
     "output_type": "stream",
     "text": [
      "5\n",
      "2 3 4 6 6 \n",
      "4\n"
     ]
    }
   ],
   "source": [
    "n = int(input())\n",
    "arr=[]\n",
    "\n",
    "\n",
    "arr = list(map(int,input().strip().split()))[:n]\n",
    "i=0\n",
    "a=max(arr)\n",
    "ar=[]\n",
    "b=len(arr)\n",
    "for i in range(0,b) :\n",
    "    if arr[i]==a:\n",
    "        continue\n",
    "    else:\n",
    "        ar.append(arr[i])\n",
    "\n",
    "print (max(ar))"
   ]
  },
  {
   "cell_type": "markdown",
   "metadata": {},
   "source": [
    "### Q3.The provided code stub will read in a dictionary containing key/value pairs of name:[marks] for a list of students. Print the average of the marks array for the student name provided, showing 2 places after the decimal.\n",
    "\n"
   ]
  },
  {
   "cell_type": "code",
   "execution_count": 6,
   "metadata": {},
   "outputs": [
    {
     "name": "stdout",
     "output_type": "stream",
     "text": [
      "2\n",
      "Harsh 25 26.5 28\n",
      "Anurag 26 28 30\n",
      "Harsh\n",
      "26.50\n"
     ]
    }
   ],
   "source": [
    "n = int(input())\n",
    "student_marks = {}\n",
    "for _ in range(n):\n",
    "    name, *line = input().split()\n",
    "    scores = list(map(float, line))\n",
    "    student_marks[name] = scores\n",
    "query_name = input()\n",
    "total_marks = sum(student_marks[query_name])\n",
    "average_marks = total_marks/3 \n",
    "print(\"%.2f\"%(average_marks))"
   ]
  },
  {
   "cell_type": "markdown",
   "metadata": {},
   "source": [
    "### Q4.Consider a list (list = []). You can perform the following commands:\n",
    "\n",
    "1. insert i e: Insert integer e at position i.\n",
    "2. print: Print the list.\n",
    "3. remove e: Delete the first occurrence of integer e.\n",
    "4. append e: Insert integer e at the end of the list.\n",
    "5. sort: Sort the list.\n",
    "6. pop: Pop the last element from the list.\n",
    "7. reverse: Reverse the list.\n",
    "8. Initialize your list and read in the value of n followed by n lines of commands where each command will be of the 7 types listed above. Iterate through each command in order and perform the corresponding operation on your list"
   ]
  },
  {
   "cell_type": "code",
   "execution_count": 7,
   "metadata": {},
   "outputs": [
    {
     "name": "stdout",
     "output_type": "stream",
     "text": [
      "12\n",
      "insert 0 5\n",
      "insert 1 10\n",
      "insert 0 6\n",
      "print\n",
      "remove 6\n",
      "append 9\n",
      "append 1\n",
      "sort\n",
      "print\n",
      "pop\n",
      "reverse\n",
      "print\n",
      "[6, 5, 10]\n",
      "[1, 5, 9, 10]\n",
      "[9, 5, 1]\n"
     ]
    }
   ],
   "source": [
    "n=int(input())\n",
    "lis=[]\n",
    "rec=[]\n",
    "for i in range(n):\n",
    "    x=input().split()\n",
    "    lis.append(x)\n",
    "for i in range(len(lis)):\n",
    "    if lis[i][0]==\"insert\":\n",
    "        x=int(lis[i][1])\n",
    "        y=int(lis[i][2])\n",
    "        rec.insert(x,y)\n",
    "    elif lis[i][0]==\"print\":\n",
    "        print(rec)\n",
    "    elif lis[i][0]==\"remove\":\n",
    "        rec.remove(int(lis[i][1]))\n",
    "    elif lis[i][0] == \"append\":\n",
    "        rec.append(int(lis[i][1]))\n",
    "    elif lis[i][0] == \"sort\":\n",
    "        rec.sort()\n",
    "    elif lis[i][0] == \"pop\":\n",
    "        rec.pop()\n",
    "    elif lis[i][0] == \"reverse\":\n",
    "        rec.reverse()"
   ]
  },
  {
   "cell_type": "markdown",
   "metadata": {},
   "source": [
    "### Q5.Given an integer, n, n and  space-separated integers as input,create a tuple,t , of those n integers. Then compute and print the result of hash(t)"
   ]
  },
  {
   "cell_type": "code",
   "execution_count": 8,
   "metadata": {},
   "outputs": [
    {
     "name": "stdout",
     "output_type": "stream",
     "text": [
      "2\n",
      "1 2\n",
      "-3550055125485641917\n"
     ]
    }
   ],
   "source": [
    "n = int(input())\n",
    "integer_list = map(int, input().split())\n",
    "t = tuple(integer_list)\n",
    "print(hash(t))"
   ]
  },
  {
   "cell_type": "markdown",
   "metadata": {},
   "source": [
    "#### Q6. A set is an unordered collection of elements without duplicate entries.\n",
    "#### When printed, iterated or converted into a sequence, its elements will appear in an arbitrary orde\n"
   ]
  },
  {
   "cell_type": "code",
   "execution_count": null,
   "metadata": {},
   "outputs": [],
   "source": [
    "def average(array):\n",
    "    return sum(set(array))/len(set(array))\n",
    "average()"
   ]
  },
  {
   "cell_type": "markdown",
   "metadata": {},
   "source": [
    "### Q7.Given  sets of integers, M and n, print their symmetric difference in ascending order. The term symmetric difference indicates those values that exist in either M or N but do not exist in both."
   ]
  },
  {
   "cell_type": "code",
   "execution_count": null,
   "metadata": {},
   "outputs": [],
   "source": [
    "a,b=(int(input()),input().split())\n",
    "c,d=(int(input()),input().split())\n",
    "x=set(b)\n",
    "y=set(d)\n",
    "p=y.difference(x)\n",
    "q=x.difference(y)\n",
    "r=p.union(q)\n",
    "print('\\n'.join(sorted(r, key=int)))"
   ]
  },
  {
   "cell_type": "markdown",
   "metadata": {},
   "source": [
    "### Q.Apply your knowledge of the .add() operation to help your friend Rupal.\n",
    "\n",
    "Rupal has a huge collection of country stamps. She decided to count the total number of distinct country stamps in her collection. She asked for your help. You pick the stamps one by one from a stack of  country stamps.\n",
    "\n",
    "Find the total number of distinct country stamps."
   ]
  },
  {
   "cell_type": "code",
   "execution_count": null,
   "metadata": {},
   "outputs": [],
   "source": [
    "n = int(input())\n",
    "s = set()\n",
    "for i in range(n):\n",
    "    string = input()\n",
    "    s.add(string)\n",
    "print(len(s))\n"
   ]
  },
  {
   "cell_type": "markdown",
   "metadata": {},
   "source": [
    "## # You have a non-empty set s, and you have to execute N commands given in N lines.\n",
    "\n",
    "The commands will be pop, remove and discard."
   ]
  },
  {
   "cell_type": "code",
   "execution_count": 1,
   "metadata": {},
   "outputs": [
    {
     "name": "stdout",
     "output_type": "stream",
     "text": [
      "9\n",
      "1 2 3 4 5 6 7 8 9\n",
      "10\n",
      "pop\n",
      "remove 9\n",
      "discard 9\n",
      "discard 8\n",
      "remove 7\n",
      "pop\n",
      "discard 6\n",
      "remove 5\n",
      "pop \n",
      "discard 5\n",
      "4\n"
     ]
    }
   ],
   "source": [
    "n = int(input())\n",
    "s = set(map(int, input().split()))\n",
    "operations = int(input())\n",
    "\n",
    "for x in range(operations):\n",
    "    oper = input().split()\n",
    "    if oper[0] == \"remove\":\n",
    "        s.remove(int(oper[1]))\n",
    "    elif oper[0] == \"discard\":\n",
    "        s.discard(int(oper[1]))\n",
    "    else:\n",
    "        s.pop()\n",
    "    \n",
    "print(sum(s))\n"
   ]
  },
  {
   "cell_type": "markdown",
   "metadata": {},
   "source": [
    "### The students of District College have subscriptions to English and French newspapers. Some students have subscribed only to English, some have subscribed to only French and some have subscribed to both newspapers.\n",
    "\n",
    "You are given two sets of student roll numbers. One set has subscribed to the English newspaper, and the other set is subscribed to the French newspaper. The same student could be in both sets. Your task is to find the total number of students who have subscribed to at least one newspaper."
   ]
  },
  {
   "cell_type": "code",
   "execution_count": null,
   "metadata": {},
   "outputs": [],
   "source": [
    "n = int(input())\n",
    "l = list(input().split())\n",
    "m = int(input())\n",
    "k = list(input().split())\n",
    "\n",
    "s1 = set(l)\n",
    "s2 = set(k)\n",
    "\n",
    "print(len(s1.union(s2)))\n",
    "print(len(s1.intersection(s2)))\n",
    "print(len(s1.difference(s2)))\n",
    "print(len(s1.symmetric_difference(s2)))\n",
    "\n"
   ]
  },
  {
   "cell_type": "markdown",
   "metadata": {},
   "source": [
    "### Set mutations"
   ]
  },
  {
   "cell_type": "code",
   "execution_count": null,
   "metadata": {},
   "outputs": [],
   "source": [
    "nA = int(input())\n",
    "A = set(map(int, input().split()))\n",
    "\n",
    "n = int(input())\n",
    "\n",
    "for i in range(n):\n",
    "    \n",
    "    comm, ne = input().split()\n",
    "    B = set(map(int, input().split()))\n",
    "\n",
    "    if comm == 'intersection_update':\n",
    "        A.intersection_update(B)\n",
    "\n",
    "    elif comm == 'update':\n",
    "        A.update(B)\n",
    "\n",
    "    elif comm == 'difference_update':\n",
    "        A.difference_update(B)\n",
    "\n",
    "    elif comm == 'symmetric_difference_update':\n",
    "        A.symmetric_difference_update(B)\n",
    "    \n",
    "print(sum(A))\n"
   ]
  },
  {
   "cell_type": "markdown",
   "metadata": {},
   "source": [
    "### the caption Room"
   ]
  },
  {
   "cell_type": "code",
   "execution_count": null,
   "metadata": {},
   "outputs": [],
   "source": [
    "d=input() \n",
    "a=list(map(int, input().split())) \n",
    "s1=set() \n",
    "s2=set()\n",
    "for i in a:\n",
    "    if  i in s1:\n",
    "        s2.add(i)\n",
    "    else:\n",
    "        s1.add(i)\n",
    "s3=s1.difference(s2)\n",
    "print (list(s3)[0])\n"
   ]
  },
  {
   "cell_type": "markdown",
   "metadata": {},
   "source": [
    "#### Check subset"
   ]
  },
  {
   "cell_type": "code",
   "execution_count": null,
   "metadata": {},
   "outputs": [],
   "source": [
    "n = int(input())\n",
    "\n",
    "for i in range(n):\n",
    "    a = int(input())\n",
    "    set_a = set(input().split())\n",
    "    b = int(input())\n",
    "    set_b = set(input().split())\n",
    "    out_set = set_a.difference(set_b)\n",
    "    if len(out_set) == 0:\n",
    "        print(True)\n",
    "    else:\n",
    "        print(False)\n",
    "    "
   ]
  },
  {
   "cell_type": "markdown",
   "metadata": {},
   "source": [
    "#### Check Strict Superset\n",
    "\n"
   ]
  },
  {
   "cell_type": "code",
   "execution_count": null,
   "metadata": {},
   "outputs": [],
   "source": [
    "a = set(input().split())\n",
    "counter , n = 0, int(input())\n",
    "for i in range (n):\n",
    "        b = set(input().split())\n",
    "        if a.issuperset(b) :\n",
    "                counter += 1\n",
    "print(counter == n)"
   ]
  }
 ],
 "metadata": {
  "kernelspec": {
   "display_name": "Python 3",
   "language": "python",
   "name": "python3"
  },
  "language_info": {
   "codemirror_mode": {
    "name": "ipython",
    "version": 3
   },
   "file_extension": ".py",
   "mimetype": "text/x-python",
   "name": "python",
   "nbconvert_exporter": "python",
   "pygments_lexer": "ipython3",
   "version": "3.8.3"
  }
 },
 "nbformat": 4,
 "nbformat_minor": 4
}
